{
 "cells": [
  {
   "cell_type": "code",
   "execution_count": 1,
   "metadata": {},
   "outputs": [],
   "source": [
    "from collections import namedtuple "
   ]
  },
  {
   "cell_type": "code",
   "execution_count": null,
   "metadata": {},
   "outputs": [],
   "source": [
    "#(12,23,11) # if we gave name to each element in tuple is called namedtuple"
   ]
  },
  {
   "attachments": {},
   "cell_type": "markdown",
   "metadata": {},
   "source": [
    "1.Download Url \n",
    "\n",
    "2.Download folder (Compressed file)\n",
    "\n",
    "3.Extract Folder (Extracted File)\n",
    "\n",
    "4.Train Dataset Folder\n",
    "\n",
    "5.Test Dataset Folder"
   ]
  },
  {
   "cell_type": "code",
   "execution_count": 2,
   "metadata": {},
   "outputs": [],
   "source": [
    "DataIngestionConfig = namedtuple(\"DataIngestionConfig\"\n",
    "            ,[\"dataset_download_url\",\"tgz_download_dir\",\"raw_data_dir\",\"ingested_train_dir\",\"ingested_test_dir\"])"
   ]
  },
  {
   "cell_type": "code",
   "execution_count": 3,
   "metadata": {},
   "outputs": [],
   "source": [
    "data_ingestion_config = DataIngestionConfig(dataset_download_url=\"www.google.com\",\n",
    "tgz_download_dir=\"dfdgdfasd\",\n",
    "raw_data_dir=\"dsfsdgsdf\",\n",
    "ingested_test_dir=\"dfdsf\",\n",
    "ingested_train_dir=\"sfsdf\"\n",
    ")"
   ]
  },
  {
   "cell_type": "code",
   "execution_count": 4,
   "metadata": {},
   "outputs": [
    {
     "data": {
      "text/plain": [
       "DataIngestionConfig(dataset_download_url='www.google.com', tgz_download_dir='dfdgdfasd', raw_data_dir='dsfsdgsdf', ingested_train_dir='sfsdf', ingested_test_dir='dfdsf')"
      ]
     },
     "execution_count": 4,
     "metadata": {},
     "output_type": "execute_result"
    }
   ],
   "source": [
    "data_ingestion_config"
   ]
  },
  {
   "cell_type": "code",
   "execution_count": 5,
   "metadata": {},
   "outputs": [],
   "source": [
    "# !pip install pyyaml\n",
    "import yaml"
   ]
  },
  {
   "cell_type": "code",
   "execution_count": null,
   "metadata": {},
   "outputs": [],
   "source": [
    "import os\n",
    "os.getcwd()\n",
    "os.listdir(\".\")"
   ]
  },
  {
   "cell_type": "code",
   "execution_count": null,
   "metadata": {},
   "outputs": [],
   "source": [
    "os.chdir('c:\\\\Users\\\\dell\\\\First_machine_Ml_project')"
   ]
  },
  {
   "cell_type": "code",
   "execution_count": null,
   "metadata": {},
   "outputs": [],
   "source": [
    "config_file_path = os.path.join(\"config\",\"config.yaml\")\n",
    "config_file_path"
   ]
  },
  {
   "cell_type": "code",
   "execution_count": null,
   "metadata": {},
   "outputs": [],
   "source": [
    "os.path.exists(config_file_path)"
   ]
  },
  {
   "cell_type": "code",
   "execution_count": null,
   "metadata": {},
   "outputs": [],
   "source": [
    "config_info= None\n",
    "with open(config_file_path,\"rb\") as yaml_file:\n",
    "    config_info = yaml.safe_load(yaml_file)\n",
    "config_info\n"
   ]
  },
  {
   "cell_type": "code",
   "execution_count": null,
   "metadata": {},
   "outputs": [],
   "source": [
    "config_info['data_ingestion_config']"
   ]
  },
  {
   "cell_type": "code",
   "execution_count": 6,
   "metadata": {},
   "outputs": [],
   "source": [
    "def read_yaml_file(file_path:str) -> dict:\n",
    "    \"\"\"\n",
    "    Reads a yaml file and returns the contents as a dictionary file_path :str\n",
    "    \"\"\"\n",
    "    try:\n",
    "        with open(file_path,\"rb\") as yml_file:\n",
    "            return yaml.safe_load(yml_file)\n",
    "    except Exception as e :\n",
    "        raise e\n",
    "    "
   ]
  },
  {
   "cell_type": "code",
   "execution_count": null,
   "metadata": {},
   "outputs": [],
   "source": [
    "read_yaml_file(config_file_path)"
   ]
  },
  {
   "cell_type": "code",
   "execution_count": null,
   "metadata": {},
   "outputs": [],
   "source": [
    "import os"
   ]
  },
  {
   "cell_type": "code",
   "execution_count": null,
   "metadata": {},
   "outputs": [],
   "source": [
    "os.getcwd()"
   ]
  },
  {
   "cell_type": "code",
   "execution_count": null,
   "metadata": {},
   "outputs": [],
   "source": [
    "os.chdir('c:\\\\Users\\\\dell\\\\First_machine_Ml_project\\\\')"
   ]
  },
  {
   "cell_type": "code",
   "execution_count": 7,
   "metadata": {},
   "outputs": [
    {
     "ename": "ModuleNotFoundError",
     "evalue": "No module named 'housing.constant'",
     "output_type": "error",
     "traceback": [
      "\u001b[1;31m---------------------------------------------------------------------------\u001b[0m",
      "\u001b[1;31mModuleNotFoundError\u001b[0m                       Traceback (most recent call last)",
      "\u001b[1;32m~\\AppData\\Local\\Temp\\ipykernel_7212\\1083759250.py\u001b[0m in \u001b[0;36m<module>\u001b[1;34m\u001b[0m\n\u001b[1;32m----> 1\u001b[1;33m \u001b[1;32mfrom\u001b[0m \u001b[0mhousing\u001b[0m\u001b[1;33m.\u001b[0m\u001b[0mconstant\u001b[0m \u001b[1;32mimport\u001b[0m \u001b[1;33m*\u001b[0m\u001b[1;33m\u001b[0m\u001b[1;33m\u001b[0m\u001b[0m\n\u001b[0m",
      "\u001b[1;31mModuleNotFoundError\u001b[0m: No module named 'housing.constant'"
     ]
    }
   ],
   "source": [
    "from housing.constant import *"
   ]
  },
  {
   "cell_type": "code",
   "execution_count": 6,
   "metadata": {},
   "outputs": [],
   "source": [
    "import datetime"
   ]
  },
  {
   "cell_type": "code",
   "execution_count": 2,
   "metadata": {},
   "outputs": [
    {
     "name": "stdout",
     "output_type": "stream",
     "text": [
      "['c:\\\\Users\\\\dell\\\\First_machine_Ml_project\\\\notebook', 'c:\\\\Users\\\\dell\\\\First_machine_Ml_project\\\\mlproject\\\\python37.zip', 'c:\\\\Users\\\\dell\\\\First_machine_Ml_project\\\\mlproject\\\\DLLs', 'c:\\\\Users\\\\dell\\\\First_machine_Ml_project\\\\mlproject\\\\lib', 'c:\\\\Users\\\\dell\\\\First_machine_Ml_project\\\\mlproject', '', 'c:\\\\Users\\\\dell\\\\First_machine_Ml_project\\\\mlproject\\\\lib\\\\site-packages', 'c:\\\\Users\\\\dell\\\\First_machine_Ml_project\\\\mlproject\\\\lib\\\\site-packages\\\\housing_predictor-0.0.1-py3.7.egg', 'c:\\\\Users\\\\dell\\\\First_machine_Ml_project\\\\mlproject\\\\lib\\\\site-packages\\\\win32', 'c:\\\\Users\\\\dell\\\\First_machine_Ml_project\\\\mlproject\\\\lib\\\\site-packages\\\\win32\\\\lib', 'c:\\\\Users\\\\dell\\\\First_machine_Ml_project\\\\mlproject\\\\lib\\\\site-packages\\\\Pythonwin', 'c:\\\\Users\\\\dell\\\\First_machine_Ml_project\\\\mlproject\\\\lib\\\\site-packages\\\\IPython\\\\extensions', 'C:\\\\Users\\\\dell\\\\.ipython']\n"
     ]
    }
   ],
   "source": [
    "import sys\n",
    "print(sys.path)"
   ]
  },
  {
   "cell_type": "code",
   "execution_count": 3,
   "metadata": {},
   "outputs": [],
   "source": [
    "\n",
    "import sys\n",
    "sys.path.append(\"c:\\\\Users\\\\dell\\\\First_machine_Ml_project\\\\housing\\\\\")"
   ]
  },
  {
   "cell_type": "code",
   "execution_count": 5,
   "metadata": {},
   "outputs": [
    {
     "data": {
      "text/plain": [
       "['c:\\\\Users\\\\dell\\\\First_machine_Ml_project\\\\notebook',\n",
       " 'c:\\\\Users\\\\dell\\\\First_machine_Ml_project\\\\mlproject\\\\python37.zip',\n",
       " 'c:\\\\Users\\\\dell\\\\First_machine_Ml_project\\\\mlproject\\\\DLLs',\n",
       " 'c:\\\\Users\\\\dell\\\\First_machine_Ml_project\\\\mlproject\\\\lib',\n",
       " 'c:\\\\Users\\\\dell\\\\First_machine_Ml_project\\\\mlproject',\n",
       " '',\n",
       " 'c:\\\\Users\\\\dell\\\\First_machine_Ml_project\\\\mlproject\\\\lib\\\\site-packages',\n",
       " 'c:\\\\Users\\\\dell\\\\First_machine_Ml_project\\\\mlproject\\\\lib\\\\site-packages\\\\housing_predictor-0.0.1-py3.7.egg',\n",
       " 'c:\\\\Users\\\\dell\\\\First_machine_Ml_project\\\\mlproject\\\\lib\\\\site-packages\\\\win32',\n",
       " 'c:\\\\Users\\\\dell\\\\First_machine_Ml_project\\\\mlproject\\\\lib\\\\site-packages\\\\win32\\\\lib',\n",
       " 'c:\\\\Users\\\\dell\\\\First_machine_Ml_project\\\\mlproject\\\\lib\\\\site-packages\\\\Pythonwin',\n",
       " 'c:\\\\Users\\\\dell\\\\First_machine_Ml_project\\\\mlproject\\\\lib\\\\site-packages\\\\IPython\\\\extensions',\n",
       " 'C:\\\\Users\\\\dell\\\\.ipython',\n",
       " 'c:\\\\Users\\\\dell\\\\First_machine_Ml_project\\\\housing\\\\']"
      ]
     },
     "execution_count": 5,
     "metadata": {},
     "output_type": "execute_result"
    }
   ],
   "source": [
    "sys.path"
   ]
  },
  {
   "cell_type": "code",
   "execution_count": 4,
   "metadata": {},
   "outputs": [],
   "source": [
    "from housing.config.configuration import Configuration"
   ]
  },
  {
   "cell_type": "code",
   "execution_count": 5,
   "metadata": {},
   "outputs": [],
   "source": [
    "config = Configuration(config_file_path=r'c:\\users\\dell\\FIRST_MACHINE_ML_PROJECT\\config\\config.yaml')"
   ]
  },
  {
   "cell_type": "code",
   "execution_count": 6,
   "metadata": {},
   "outputs": [
    {
     "data": {
      "text/plain": [
       "DataIngestionConfig(dataset_download_dir='https://raw.githubusercontent.com/ageron/handson-ml/master/datasets/housing/housing.tgz', tgz_download_dir='c:\\\\Users\\\\dell\\\\First_machine_Ml_project\\\\notebook\\\\housing\\\\artifact\\\\data_ingestion\\\\2023-04-03-23-04-59\\\\tgz_data', raw_data_dir='c:\\\\Users\\\\dell\\\\First_machine_Ml_project\\\\notebook\\\\housing\\\\artifact\\\\data_ingestion\\\\2023-04-03-23-04-59\\\\raw_data', ingested_train_dir='c:\\\\Users\\\\dell\\\\First_machine_Ml_project\\\\notebook\\\\housing\\\\artifact\\\\data_ingestion\\\\2023-04-03-23-04-59\\\\ingested_data\\\\train', ingested_test_dir='c:\\\\Users\\\\dell\\\\First_machine_Ml_project\\\\notebook\\\\housing\\\\artifact\\\\data_ingestion\\\\2023-04-03-23-04-59\\\\ingested_data\\\\test')"
      ]
     },
     "execution_count": 6,
     "metadata": {},
     "output_type": "execute_result"
    }
   ],
   "source": [
    "config.get_data_ingestion_config()"
   ]
  },
  {
   "cell_type": "code",
   "execution_count": null,
   "metadata": {},
   "outputs": [],
   "source": []
  }
 ],
 "metadata": {
  "kernelspec": {
   "display_name": "base",
   "language": "python",
   "name": "python3"
  },
  "language_info": {
   "codemirror_mode": {
    "name": "ipython",
    "version": 3
   },
   "file_extension": ".py",
   "mimetype": "text/x-python",
   "name": "python",
   "nbconvert_exporter": "python",
   "pygments_lexer": "ipython3",
   "version": "3.8.8"
  },
  "orig_nbformat": 4
 },
 "nbformat": 4,
 "nbformat_minor": 2
}
