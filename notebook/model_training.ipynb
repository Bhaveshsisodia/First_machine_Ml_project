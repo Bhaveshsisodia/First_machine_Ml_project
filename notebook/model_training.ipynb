{
 "cells": [
  {
   "cell_type": "code",
   "execution_count": 6,
   "metadata": {},
   "outputs": [],
   "source": [
    "from housing.entity.model_factory import ModelFactory, get_sample_model_config_yaml_file"
   ]
  },
  {
   "cell_type": "code",
   "execution_count": 2,
   "metadata": {},
   "outputs": [
    {
     "data": {
      "text/plain": [
       "'config\\\\model.yaml'"
      ]
     },
     "execution_count": 2,
     "metadata": {},
     "output_type": "execute_result"
    }
   ],
   "source": [
    "get_sample_model_config_yaml_file(export_dir=\"config\")"
   ]
  },
  {
   "cell_type": "code",
   "execution_count": 7,
   "metadata": {},
   "outputs": [],
   "source": [
    "from sklearn.linear_model import LinearRegression\n",
    "LinearRegression()\n",
    "\n",
    "model_config_file =r\"C:\\Users\\dell\\First_machine_Ml_project\\notebook\\config\\model.yaml\""
   ]
  },
  {
   "cell_type": "code",
   "execution_count": 8,
   "metadata": {},
   "outputs": [],
   "source": [
    "model_factory = ModelFactory(model_config_path=model_config_file)"
   ]
  },
  {
   "cell_type": "code",
   "execution_count": 9,
   "metadata": {},
   "outputs": [
    {
     "name": "stdout",
     "output_type": "stream",
     "text": [
      "{'fit_intercept': True}\n",
      "{'n_estimators': 40, 'min_samples_leaf': 2}\n"
     ]
    }
   ],
   "source": [
    "model_list = model_factory.get_initialized_model_list()"
   ]
  },
  {
   "cell_type": "code",
   "execution_count": 10,
   "metadata": {},
   "outputs": [],
   "source": [
    "from housing.util.util import load_numpy_array_data\n"
   ]
  },
  {
   "cell_type": "code",
   "execution_count": 11,
   "metadata": {},
   "outputs": [],
   "source": [
    "data_file_path=r\"C:\\Users\\dell\\First_machine_Ml_project\\housing\\artifact\\data_transformation\\2023-04-16-16-26-42\\transformed_data\\train\\housing.npz\""
   ]
  },
  {
   "cell_type": "code",
   "execution_count": 12,
   "metadata": {},
   "outputs": [],
   "source": [
    "data =load_numpy_array_data(data_file_path)"
   ]
  },
  {
   "cell_type": "code",
   "execution_count": 13,
   "metadata": {},
   "outputs": [],
   "source": [
    "x,y = data[:,:-1],data[:,-1]"
   ]
  },
  {
   "cell_type": "code",
   "execution_count": 14,
   "metadata": {},
   "outputs": [
    {
     "data": {
      "text/plain": [
       "[InitializedModelDetail(model_serial_number='module_0', model=LinearRegression(), param_grid_search={'fit_intercept': [True, False]}, model_name='sklearn.linear_model.LinearRegression'),\n",
       " InitializedModelDetail(model_serial_number='module_1', model=RandomForestRegressor(min_samples_leaf=2, n_estimators=40), param_grid_search={'min_samples_leaf': [2, 4, 6], 'n_estimators': [50, 100, 80]}, model_name='sklearn.ensemble.RandomForestRegressor')]"
      ]
     },
     "execution_count": 14,
     "metadata": {},
     "output_type": "execute_result"
    }
   ],
   "source": [
    "model_list"
   ]
  },
  {
   "cell_type": "code",
   "execution_count": 15,
   "metadata": {},
   "outputs": [
    {
     "name": "stdout",
     "output_type": "stream",
     "text": [
      "{'fit_intercept': True}\n",
      "{'n_estimators': 40, 'min_samples_leaf': 2}\n",
      "{'cv': 4, 'verbose': 2}\n",
      "Fitting 4 folds for each of 2 candidates, totalling 8 fits\n",
      "[CV] END .................................fit_intercept=True; total time=   0.0s\n",
      "[CV] END .................................fit_intercept=True; total time=   0.0s\n",
      "[CV] END .................................fit_intercept=True; total time=   0.0s\n",
      "[CV] END .................................fit_intercept=True; total time=   0.0s\n",
      "[CV] END ................................fit_intercept=False; total time=   0.0s\n",
      "[CV] END ................................fit_intercept=False; total time=   0.0s\n",
      "[CV] END ................................fit_intercept=False; total time=   0.0s\n",
      "[CV] END ................................fit_intercept=False; total time=   0.0s\n",
      "{'cv': 4, 'verbose': 2}\n",
      "Fitting 4 folds for each of 9 candidates, totalling 36 fits\n",
      "[CV] END ................min_samples_leaf=2, n_estimators=50; total time=  15.9s\n",
      "[CV] END ................min_samples_leaf=2, n_estimators=50; total time=  15.9s\n",
      "[CV] END ................min_samples_leaf=2, n_estimators=50; total time=  15.9s\n",
      "[CV] END ................min_samples_leaf=2, n_estimators=50; total time=  15.9s\n",
      "[CV] END ...............min_samples_leaf=2, n_estimators=100; total time=  31.8s\n",
      "[CV] END ...............min_samples_leaf=2, n_estimators=100; total time=  35.4s\n",
      "[CV] END ...............min_samples_leaf=2, n_estimators=100; total time=  35.4s\n",
      "[CV] END ...............min_samples_leaf=2, n_estimators=100; total time=  32.0s\n",
      "[CV] END ................min_samples_leaf=2, n_estimators=80; total time=  25.2s\n",
      "[CV] END ................min_samples_leaf=2, n_estimators=80; total time=  25.2s\n",
      "[CV] END ................min_samples_leaf=2, n_estimators=80; total time=  25.9s\n",
      "[CV] END ................min_samples_leaf=2, n_estimators=80; total time=  26.0s\n",
      "[CV] END ................min_samples_leaf=4, n_estimators=50; total time=  14.0s\n",
      "[CV] END ................min_samples_leaf=4, n_estimators=50; total time=  14.1s\n",
      "[CV] END ................min_samples_leaf=4, n_estimators=50; total time=  13.8s\n",
      "[CV] END ................min_samples_leaf=4, n_estimators=50; total time=  13.8s\n",
      "[CV] END ...............min_samples_leaf=4, n_estimators=100; total time=  26.8s\n",
      "[CV] END ...............min_samples_leaf=4, n_estimators=100; total time=  28.4s\n",
      "[CV] END ...............min_samples_leaf=4, n_estimators=100; total time=  27.5s\n",
      "[CV] END ...............min_samples_leaf=4, n_estimators=100; total time=  28.5s\n",
      "[CV] END ................min_samples_leaf=4, n_estimators=80; total time=  22.1s\n",
      "[CV] END ................min_samples_leaf=4, n_estimators=80; total time=  22.1s\n",
      "[CV] END ................min_samples_leaf=4, n_estimators=80; total time=  22.2s\n",
      "[CV] END ................min_samples_leaf=4, n_estimators=80; total time=  22.2s\n",
      "[CV] END ................min_samples_leaf=6, n_estimators=50; total time=  12.3s\n",
      "[CV] END ................min_samples_leaf=6, n_estimators=50; total time=  11.9s\n",
      "[CV] END ................min_samples_leaf=6, n_estimators=50; total time=  11.7s\n",
      "[CV] END ................min_samples_leaf=6, n_estimators=50; total time=  12.9s\n",
      "[CV] END ...............min_samples_leaf=6, n_estimators=100; total time=  24.5s\n",
      "[CV] END ...............min_samples_leaf=6, n_estimators=100; total time=  25.0s\n",
      "[CV] END ...............min_samples_leaf=6, n_estimators=100; total time=  24.8s\n",
      "[CV] END ...............min_samples_leaf=6, n_estimators=100; total time=  25.5s\n",
      "[CV] END ................min_samples_leaf=6, n_estimators=80; total time=  20.3s\n",
      "[CV] END ................min_samples_leaf=6, n_estimators=80; total time=  20.3s\n",
      "[CV] END ................min_samples_leaf=6, n_estimators=80; total time=  20.4s\n",
      "[CV] END ................min_samples_leaf=6, n_estimators=80; total time=  19.9s\n"
     ]
    }
   ],
   "source": [
    "best_model=model_factory.get_best_model(x,y)"
   ]
  },
  {
   "cell_type": "code",
   "execution_count": null,
   "metadata": {},
   "outputs": [],
   "source": []
  }
 ],
 "metadata": {
  "kernelspec": {
   "display_name": "Bhavu",
   "language": "python",
   "name": "python3"
  },
  "language_info": {
   "codemirror_mode": {
    "name": "ipython",
    "version": 3
   },
   "file_extension": ".py",
   "mimetype": "text/x-python",
   "name": "python",
   "nbconvert_exporter": "python",
   "pygments_lexer": "ipython3",
   "version": "3.8.8"
  },
  "orig_nbformat": 4
 },
 "nbformat": 4,
 "nbformat_minor": 2
}
